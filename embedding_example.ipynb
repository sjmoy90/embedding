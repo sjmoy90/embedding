{
 "cells": [
  {
   "cell_type": "code",
   "execution_count": 2,
   "id": "62c6a65b",
   "metadata": {},
   "outputs": [],
   "source": [
    "import matplotlib.pyplot as plt\n",
    "import numpy as np\n",
    "\n",
    "import tensorflow as tf\n",
    "import tf_keras\n",
    "from tensorflow.keras import layers, models, optimizers"
   ]
  },
  {
   "cell_type": "code",
   "execution_count": 3,
   "id": "6d1bf636",
   "metadata": {},
   "outputs": [
    {
     "name": "stdout",
     "output_type": "stream",
     "text": [
      "Downloading data from https://storage.googleapis.com/tensorflow/tf-keras-datasets/mnist.npz\n",
      "\u001b[1m11490434/11490434\u001b[0m \u001b[32m━━━━━━━━━━━━━━━━━━━━\u001b[0m\u001b[37m\u001b[0m \u001b[1m2s\u001b[0m 0us/step\n"
     ]
    }
   ],
   "source": [
    "# Load and preprocess the MNIST dataset\n",
    "(x_train, y_train), (x_test, y_test) = tf.keras.datasets.mnist.load_data()\n",
    "x_train = np.expand_dims(x_train, axis=-1) / 255.0\n",
    "x_test = np.expand_dims(x_test, axis=-1) / 255.0"
   ]
  },
  {
   "cell_type": "code",
   "execution_count": 198,
   "id": "47c09527",
   "metadata": {},
   "outputs": [
    {
     "data": {
      "image/png": "[encoded data removed]",
      "text/plain": [
       "<Figure size 1000x1000 with 9 Axes>"
      ]
     },
     "metadata": {},
     "output_type": "display_data"
    }
   ],
   "source": [
    "# Define a function to display a grid of images\n",
    "def display_images(images, labels, num_images=9):\n",
    "    plt.figure(figsize=(10, 10))\n",
    "    for i in range(num_images):\n",
    "        plt.subplot(3, 3, i+1)\n",
    "        plt.imshow(images[i], cmap='gray')\n",
    "        plt.title(f\"Label: {labels[i]}\")\n",
    "        plt.axis('off')\n",
    "    plt.show()\n",
    "\n",
    "# Display the first 9 images from the training set\n",
    "display_images(x_train, y_train, num_images=9)"
   ]
  },
  {
   "cell_type": "code",
   "execution_count": 4,
   "id": "c6c1d738",
   "metadata": {},
   "outputs": [],
   "source": [
    "# Define data augmentation\n",
    "data_augmentation = tf.keras.Sequential([\n",
    "    layers.RandomRotation(0.2),\n",
    "    layers.RandomZoom(0.2),\n",
    "])"
   ]
  },
  {
   "cell_type": "code",
   "execution_count": 15,
   "id": "d172af22",
   "metadata": {},
   "outputs": [],
   "source": [
    "# Create pairs of augmented images\n",
    "def create_pairs(images):\n",
    "    pairs = []\n",
    "    labels = []\n",
    "    for img in images:\n",
    "        aug1 = data_augmentation(img)\n",
    "        aug2 = data_augmentation(img)\n",
    "        pairs.append((aug1, aug2))\n",
    "        labels.append(1)  # positive pair\n",
    "    return pairs, labels\n",
    "\n",
    "train_pairs, train_labels = create_pairs(x_train)\n",
    "test_pairs, test_labels = create_pairs(x_test)"
   ]
  },
  {
   "cell_type": "code",
   "execution_count": 16,
   "id": "b7d42896",
   "metadata": {},
   "outputs": [],
   "source": [
    "# Convert to numpy arrays\n",
    "train_pairs = np.array(train_pairs)\n",
    "test_pairs = np.array(test_pairs)\n",
    "train_labels = np.array(train_labels)\n",
    "test_labels = np.array(test_labels)"
   ]
  },
  {
   "cell_type": "code",
   "execution_count": 174,
   "id": "e0c32d7a",
   "metadata": {},
   "outputs": [],
   "source": [
    "# Define the encoder model\n",
    "def create_encoder():\n",
    "    model = tf_keras.models.Sequential([\n",
    "        tf_keras.layers.Conv2D(32, (3, 3), activation='relu', input_shape=(28, 28, 1)),\n",
    "        tf_keras.layers.MaxPooling2D((2, 2)),\n",
    "        tf_keras.layers.Conv2D(64, (3, 3), activation='relu'),\n",
    "        tf_keras.layers.MaxPooling2D((2, 2)),\n",
    "        tf_keras.layers.Conv2D(128, (3, 3), activation='relu'),\n",
    "        tf_keras.layers.GlobalAveragePooling2D(),\n",
    "        tf_keras.layers.Dense(128, activation='relu'),\n",
    "        tf_keras.layers.Dense(10, activation='relu')\n",
    "    ])\n",
    "    return model\n",
    "\n",
    "encoder = create_encoder()"
   ]
  },
  {
   "cell_type": "code",
   "execution_count": 176,
   "id": "0f5f263d",
   "metadata": {},
   "outputs": [],
   "source": [
    "# Define the contrastive loss function\n",
    "def contrastive_loss(hidden_1, hidden_2, temperature=0.1):\n",
    "    hidden_1 = tf.math.l2_normalize(hidden_1, axis=1)\n",
    "    hidden_2 = tf.math.l2_normalize(hidden_2, axis=1)\n",
    "    batch_size = tf.shape(hidden_1)[0]\n",
    "    labels = tf.eye(batch_size)\n",
    "    \n",
    "    logits = tf.matmul(hidden_1, hidden_2, transpose_b=True) / temperature\n",
    "    loss = tf.nn.softmax_cross_entropy_with_logits(labels, logits)\n",
    "    return tf.reduce_mean(loss)"
   ]
  },
  {
   "cell_type": "code",
   "execution_count": 177,
   "id": "d1af97f2",
   "metadata": {},
   "outputs": [],
   "source": [
    "# Define the training step\n",
    "optimizer = optimizers.Adam(learning_rate=1e-3)\n",
    "\n",
    "@tf.function\n",
    "def train_step(pair, label):\n",
    "    with tf.GradientTape() as tape:\n",
    "        hidden_1 = encoder(pair[:, 0], training=True)\n",
    "        hidden_2 = encoder(pair[:, 1], training=True)\n",
    "        loss = contrastive_loss(hidden_1, hidden_2)\n",
    "    \n",
    "    gradients = tape.gradient(loss, encoder.trainable_variables)\n",
    "    optimizer.apply_gradients(zip(gradients, encoder.trainable_variables))\n",
    "    return loss"
   ]
  },
  {
   "cell_type": "code",
   "execution_count": 178,
   "id": "dae4475a",
   "metadata": {},
   "outputs": [
    {
     "name": "stdout",
     "output_type": "stream",
     "text": [
      "Epoch 1, Loss: 1.8953900257067848\n",
      "Epoch 2, Loss: 1.4534858516084475\n",
      "Epoch 3, Loss: 1.3602121146028043\n",
      "Epoch 4, Loss: 1.3180895799506562\n",
      "Epoch 5, Loss: 1.2913559340616427\n",
      "Epoch 6, Loss: 1.2732442804436293\n",
      "Epoch 7, Loss: 1.2589879398539328\n",
      "Epoch 8, Loss: 1.246844800584726\n",
      "Epoch 9, Loss: 1.2378120623377877\n",
      "Epoch 10, Loss: 1.2285014521986597\n"
     ]
    }
   ],
   "source": [
    "# Training loop\n",
    "epochs = 10\n",
    "batch_size = 64\n",
    "num_batches = len(train_pairs) // batch_size\n",
    "\n",
    "for epoch in range(epochs):\n",
    "    epoch_loss = 0\n",
    "    for i in range(num_batches):\n",
    "        batch_pairs = train_pairs[i*batch_size:(i+1)*batch_size]\n",
    "        batch_labels = train_labels[i*batch_size:(i+1)*batch_size]\n",
    "        loss = train_step(batch_pairs, batch_labels)\n",
    "        epoch_loss += loss.numpy()\n",
    "    print(f'Epoch {epoch+1}, Loss: {epoch_loss/num_batches}')"
   ]
  },
  {
   "cell_type": "code",
   "execution_count": 179,
   "id": "4512715e",
   "metadata": {},
   "outputs": [
    {
     "name": "stdout",
     "output_type": "stream",
     "text": [
      "Test Loss: 5.951152324676514\n"
     ]
    }
   ],
   "source": [
    "# Testing the model on test set (similar logic can be used for evaluation)\n",
    "def test_model(test_pairs, test_labels):\n",
    "    hidden_1 = encoder(test_pairs[:, 0], training=False)\n",
    "    hidden_2 = encoder(test_pairs[:, 1], training=False)\n",
    "    loss = contrastive_loss(hidden_1, hidden_2)\n",
    "    return loss\n",
    "\n",
    "test_loss = test_model(test_pairs, test_labels)\n",
    "print(f'Test Loss: {test_loss.numpy()}')"
   ]
  },
  {
   "cell_type": "code",
   "execution_count": 81,
   "id": "bbeee4a8",
   "metadata": {},
   "outputs": [
    {
     "name": "stdout",
     "output_type": "stream",
     "text": [
      "Cosine similarity: 0.9746318461970762\n"
     ]
    }
   ],
   "source": [
    "def cosine_similarity(vec1, vec2):\n",
    "    \"\"\"\n",
    "    Calculate the cosine similarity between two numpy vectors.\n",
    "\n",
    "    Parameters:\n",
    "    vec1 (numpy.ndarray): First vector\n",
    "    vec2 (numpy.ndarray): Second vector\n",
    "\n",
    "    Returns:\n",
    "    float: Cosine similarity between vec1 and vec2\n",
    "    \"\"\"\n",
    "    # Ensure the vectors are numpy arrays\n",
    "    vec1 = np.asarray(vec1)\n",
    "    vec2 = np.asarray(vec2)\n",
    "\n",
    "    # Calculate the dot product\n",
    "    dot_product = np.dot(vec1, vec2)\n",
    "    \n",
    "    # Calculate the magnitudes (norms) of the vectors\n",
    "    norm_vec1 = np.linalg.norm(vec1)\n",
    "    norm_vec2 = np.linalg.norm(vec2)\n",
    "    \n",
    "    # Calculate the cosine similarity\n",
    "    if norm_vec1 == 0 or norm_vec2 == 0:\n",
    "        return 0.0  # Avoid division by zero\n",
    "    else:\n",
    "        return dot_product / (norm_vec1 * norm_vec2)\n",
    "\n",
    "# Example usage\n",
    "vec1 = np.array([1, 2, 3])\n",
    "vec2 = np.array([4, 5, 6])\n",
    "similarity = cosine_similarity(vec1, vec2)\n",
    "print(f\"Cosine similarity: {similarity}\")\n"
   ]
  },
  {
   "cell_type": "code",
   "execution_count": 191,
   "id": "7c05e498",
   "metadata": {},
   "outputs": [
    {
     "data": {
      "image/png": "[encoded data removed]",
      "text/plain": [
       "<Figure size 1000x1000 with 4 Axes>"
      ]
     },
     "metadata": {},
     "output_type": "display_data"
    }
   ],
   "source": [
    "# Define a function to display a grid of images\n",
    "def display_image_pair(images, index_pairs):\n",
    "    plt.figure(figsize=(10, 10))\n",
    "    num_rows = min(3, len(index_pairs))\n",
    "    for row, pair in enumerate(index_pairs):\n",
    "        # compute cosine similarity\n",
    "        score = cosine_similarity(\n",
    "            np.array(encoder(x_train[[pair[0]-1],:,:,:], training=False))[0,:],\n",
    "            np.array(encoder(x_train[[pair[1]-1],:,:,:], training=False))[0,:]\n",
    "        )\n",
    "        for idx, i in enumerate(pair):\n",
    "            pos = (row % num_rows) * 2 + idx + 1\n",
    "            plt.subplot(num_rows, 2, pos)\n",
    "            plt.imshow(images[i-1], cmap='gray')\n",
    "            if pos % 2 == 1:\n",
    "                plt.title(f\"Cosine Similarity: {score:.3f}\")\n",
    "            plt.axis('off')\n",
    "    plt.show()\n",
    "\n",
    "# Display a pair of images from the training set\n",
    "display_image_pair(x_train, [[4, 9], [1, 6]])"
   ]
  },
  {
   "cell_type": "code",
   "execution_count": null,
   "id": "bce10ce6",
   "metadata": {},
   "outputs": [],
   "source": []
  }
 ],
 "metadata": {
  "kernelspec": {
   "display_name": "Python 3 (ipykernel)",
   "language": "python",
   "name": "python3"
  },
  "language_info": {
   "codemirror_mode": {
    "name": "ipython",
    "version": 3
   },
   "file_extension": ".py",
   "mimetype": "text/x-python",
   "name": "python",
   "nbconvert_exporter": "python",
   "pygments_lexer": "ipython3",
   "version": "3.9.2"
  }
 },
 "nbformat": 4,
 "nbformat_minor": 5
}
